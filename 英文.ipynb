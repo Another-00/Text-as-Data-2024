{
 "cells": [
  {
   "cell_type": "code",
   "execution_count": 1,
   "metadata": {},
   "outputs": [],
   "source": [
    "import pandas as pd"
   ]
  },
  {
   "cell_type": "code",
   "execution_count": 2,
   "metadata": {},
   "outputs": [],
   "source": [
    "text_ana = pd.read_csv('text_analysis_twitter.csv')"
   ]
  },
  {
   "cell_type": "code",
   "execution_count": 3,
   "metadata": {},
   "outputs": [],
   "source": [
    "text = list(text_ana['text'])[:100]"
   ]
  },
  {
   "cell_type": "code",
   "execution_count": 4,
   "metadata": {},
   "outputs": [
    {
     "data": {
      "text/plain": [
       "['Republicans are trying to steal health care from 22 million people in order to help the wealthiest 0.4%.',\n",
       " \"RT @kylegriffin1 Rep. Mark Veasay has introduced a bill to ensure no taxpayer funds will be used to support Trump's Election Commission. http://pbs.twimg.com/media/DDm3PgaXcAAFBIo.jpg\",\n",
       " 'A top U.S. science office went dark tonight. Not good. #sciencematters https://twitter.com/elleabella1112/status/880870684485984256 QT @elleabella1112 science division out. mic drop. http://pbs.twimg.com/media/DDl7NT9XoAEeJxb.jpg',\n",
       " 'So the fundraising quarter ends in an hour in MO. I would really appreciate a $5 contribution. Thank you so much. http://clairemccaskill.com/donate',\n",
       " 'RT @larry_kudlow Important story @SenTedCruz @NRO. http://www.nationalreview.com/article/449134/ted-cruz-conservative-health-care-proposal?utm_campaign=trueanthem&utm_content=595717ee04d3010ccd0c715e&utm_medium=social&utm_source=twitter',\n",
       " 'Threats already higher than all of 2016!  Resist! http://thehill.com/homenews/house/340309-threats-against-lawmakers-spiked-this-year',\n",
       " 'Happy birthday @SenJoniErnst!',\n",
       " 'Read @RepLouCorrea article on one of California\\'s finest officers \"Achieving The American Dream\" https://medium.com/congressman-lou-correa/achieving-the-american-dream-1fb26950da7d #HereToStay',\n",
       " 'RT @airandspace 41 years ago today, the official ribbon cutting at our Museum in DC was triggered by a spacecraft orbiting Mars! http://pbs.twimg.com/media/DDpVB1xXoAA3zHZ.jpg',\n",
       " 'Great job Daylen! #littleleague #Baseball #esva https://twitter.com/13newsnow/status/881113918986489857 QT @13NewsNow Eastern Shore Little League player invited to national MLB event http://bit.ly/2tvcp5K http://pbs.twimg.com/media/DDpYcEkWAAIwrcA.jpg',\n",
       " 'John 14:6 Jesus said to him, \"I am the way, and the truth, and the life; no one comes to the Father but through Me.\"',\n",
       " 'RT @mattmaestas Inspired by @BenSasse today begins our 2nd Annual #pushupjuly 10,000 pushups in a month. Join the fun here https://www.facebook.com/pushupjuly2017/',\n",
       " \"get 'er done. https://twitter.com/mattmaestas/status/881108201403535360 QT @mattmaestas Inspired by @BenSasse today begins our 2nd Annual #pushupjuly 10,000 pushups in a month. Join the fun here https://www.facebook.com/pushupjuly2017/\",\n",
       " \"top o' the morning to you as well https://twitter.com/GrizzlyHolden/status/881081323288313856 QT @GrizzlyHolden @BenSasse  http://pbs.twimg.com/tweet_video_thumb/DDo6yT_V0AAnHb4.jpg https://video.twimg.com/tweet_video/DDo6yT_V0AAnHb4.mp4\",\n",
       " 'TMI https://twitter.com/guyindelco/status/881092215799414784 QT @guyindelco @BenSasse I always get the pork chops for breakfast at Cracker Barrel.',\n",
       " \"...b/c when we people disagree about policy, the winning move is to call them monsters &amp; scream the other side's goal is to kill people... https://twitter.com/PalmerReport/status/880949703122309122 QT @PalmerReport For those of you who thought Ben Sasse wasn't a monster... https://twitter.com/BenSasse/status/880745889266106368\",\n",
       " 'Join with me and tell @SOSCegavske to protect our information from Trump and his insecurities.  https://www.usnews.com/news/best-states/nevada/articles/2017-06-30/nevada-to-provide-public-data-comply-with-voter-fraud-probe?src=usn_tw',\n",
       " 'really good on dialogue and listening by @timkellernyc https://twitter.com/BenSasse/status/881109096140873730 QT @BenSasse \"we shouldn\\'t talk until we can represent the skeptic’s viewpoint with empathy so he says, ‘Yes, that\\'s my hang up\\'\"\\nhttp://www.christianitytoday.com/ct/2017/june/why-we-argue-best-with-our-mouths-shut.html',\n",
       " '\"we shouldn\\'t talk until we can represent the skeptic’s viewpoint with empathy so he says, ‘Yes, that\\'s my hang up\\'\"\\nhttp://www.christianitytoday.com/ct/2017/june/why-we-argue-best-with-our-mouths-shut.html',\n",
       " 'amazing story / kid / family https://twitter.com/BenSasse/status/881106096081051650 QT @BenSasse “He didn’t complain abt having cancer” his dad said. “He was thankful for having it so he could reach out to others\"\\nhttp://www.omaha.com/livewellnebraska/recent-grad-simon-jones-who-wrote-blog-about-his-cancer/article_af419fea-9098-59f3-adb8-e4cebc0ed041.html',\n",
       " '“He didn’t complain abt having cancer” his dad said. “He was thankful for having it so he could reach out to others\"\\nhttp://www.omaha.com/livewellnebraska/recent-grad-simon-jones-who-wrote-blog-about-his-cancer/article_af419fea-9098-59f3-adb8-e4cebc0ed041.html',\n",
       " 'Congress must stand for voter rights and not allow the Trump administration to enact policies that will purge voter rolls. #VoterSuppression',\n",
       " 'RT @thehill Science division of White House office no longer has employees: report http://hill.cm/qx1OKPs http://pbs.twimg.com/media/DDpC7fnXsAAnrXr.jpg',\n",
       " \"I'm listening to a heated 6-yr-old argument about which color everyone hates.\\n\\n(apparently it's GREEN)\",\n",
       " \"I'm pleased Secretary Mattis decided to delay @DeptofDefense accession policy. This costly policy was rushed &amp; hurts #readiness\",\n",
       " \"I'll be on @CNN at 9am RT to discuss #Trumpcare\",\n",
       " 'Enjoy while it lasts @Yg_Trece will break your heart but youre used to it in OKC. @VicOladipo + @Original_Turner era in Indy could be potent https://twitter.com/okcpd/status/880984935473053696 QT @OKCPD Thanks for the tweets reporting the \"theft\" of Paul George by @okcthunder. \\n\\nOur investigative findings: totally legal &amp; very savvy.',\n",
       " 'Great to see Brody Jenkins &amp; his parents Danel &amp; Sharon of Deer Park, TX. Brody just started at @NavalAcademy. Proud to have nominated him. http://pbs.twimg.com/media/DDpofAJXsAABjP5.jpg',\n",
       " 'Weekly Column ✍️: \\nThe House Acts to Curb #SanctuaryCity Policies https://goodlatte.house.gov/news/documentsingle.aspx?DocumentID=925 #KatesLaw',\n",
       " '#Trumpcare breaks every health care promise the President made to the American people.\\nhttp://www.washingtonpost.com/news/wonk/wp/2017/06/30/trump-loves-the-senate-health-care-plan-it-would-break-all-of-his-promises/',\n",
       " \"RT @GarrettVentry Me when it's free @ChickfilA day. http://pbs.twimg.com/media/DDmKoxaXcAERMLH.jpg\",\n",
       " \"RT @wisgop .@SenatorBaldwin's Tomah VA scandal keeps getting deeper.  Learn more here: http://bit.ly/2sjhf1e http://pbs.twimg.com/media/DDmmAc_XcAEQ_lk.jpg\",\n",
       " 'Senate Intel putting Russia probe on fast track http://politi.co/2smXy9a',\n",
       " 'RT @Fusion Rep. Luis Gutierrez of Illinois slams Trump\\'s new immigration bills that would crack down on \"sanctuary cities.\" http://pbs.twimg.com/amplify_video_thumb/880495002706739200/img/FPyaLJUALGLdD1Bt.jpg https://video.twimg.com/amplify_video/880495002706739200/vid/480x480/1DVw9_JCgJ_qBZHB.mp4',\n",
       " \"79 cosponsors so far for HR 2909 - DC Personal Protection Reciprocity Act. Need to send to @realDonaldTrump 's desk! https://www.congress.gov/bill/115th-congress/house-bill/2909/cosponsors?q=%7B%22search%22%3A%5B%222909%22%5D%7D&r=3\",\n",
       " 'Protecting America’s borders – House passed Kate’s Law as well as No\\u200b \\u200bSanctuary for Criminals Act … Make America Safe Again!',\n",
       " 'RT @thehill Mississippi to Trump voter fraud commission: \"Go jump in the Gulf of Mexico\" http://hill.cm/ytuVln5 http://pbs.twimg.com/media/DDpdQTWXcAAXsi4.jpg',\n",
       " \"Please direct 'thank-yous' to Minnesota Secretary of State; Refuses to give info to Trump's voter Suppression panel http://m.startribune.com/minnesota-secretary-of-state-won-t-supply-voter-information-to-trump-s-panel/431888833/\",\n",
       " 'Want to receive updates on the budget? Sign up here: http://bit.ly/2tyKnHh',\n",
       " \"Thank you to the thousands and thousands of people that helped make our fundraising this quarter so strong. I'm very grateful.\",\n",
       " '\"They can go jump in the Gulf of Mexico\" - Mississippi Secretary of State Delbert Hosemann, on your attempts to violate Americans\\' privacy. https://twitter.com/realdonaldtrump/status/881137079958241280 QT @realDonaldTrump Numerous states are refusing to give information to the very distinguished VOTER FRAUD PANEL. What are they trying to hide?',\n",
       " 'Russian radio takes over local DC station http://thehill.com/homenews/media/340292-russian-radio-takes-over-local-dc-station#.WVefz59PSuI.twitter',\n",
       " \"No one should have to choose btwn child care + doctor visits. But that's the kind of impossible choice #Trumpcare will force on families. http://pbs.twimg.com/media/DDpuuO1XYAI8_w0.jpg https://video.twimg.com/amplify_video/880931659230707712/pl/iUEO1k_Yq5BPggtQ.m3u8\",\n",
       " 'ICYMI: announced new funding to support our local fire departments in five WV counties. Learn more here: http://bit.ly/2spN2m6',\n",
       " 'Richard form my district says \"Obamacare saved my life.\" This is his story http://pbs.twimg.com/media/DDmCzN5XgAAfBIS.jpg',\n",
       " 'RT @colo_politics Should they? H/t @RepKenBuck #copolitics #coleg https://coloradopolitics.com/ken-buck-joins-republican-colleagues-urging-leadership-cancel-august-recess/',\n",
       " 'RT @denverpost .@RepKenBuck: “If we can’t get our work done, we shouldn’t be going on recess.\" #copolitics http://dpo.st/2saCpzt',\n",
       " \"Republicans claiming that their health care bill doesn't cut Medicaid—drastically—are lying. #ProtectOurCare http://wapo.st/2upi36u?tid=ss_tw&utm_term=.34ea65c05a90\",\n",
       " 'Thanks to the @OWHnews for highlighting this new law important to #agriculture and food security http://www.omaha.com/money/trump-signs-bill-introduced-by-david-young-to-fight-agro/article_e5a9de5a-9e4d-5ce0-9f40-52fcbce62656.html #IA03',\n",
       " 'An important piece to our bold agenda is public safety. We are grateful for the passage of No Sanctuary for Criminals Act and #KatesLaw. http://pbs.twimg.com/amplify_video_thumb/879790115836579844/img/0wsO6c8GaFjWYfcB.jpg https://video.twimg.com/amplify_video/879790115836579844/vid/320x180/d3DoPuGP3BOHmbGO.mp4',\n",
       " 'How are you celebrating the 4th of July? Join me at the Montgomery Village Parade. 🎆Sign up!🎆https://www.eventbrite.com/e/john-congressman-delaney-at-the-montgomery-village-fourth-of-july-parade-tickets-35739764598',\n",
       " \"WATCH: @CecileRichards explains the devastating impact #Trumpcare will have on vulnerable families https://twitter.com/nowthisnews/status/880454069957021696 QT @nowthisnews Here's how badly women will suffer if the Senate health care bill defunds Planned Parenthood.\\n\\nAn op-ed from Cecile Richards: http://pbs.twimg.com/media/DDf8GcqXsAEZSg8.jpg https://video.twimg.com/amplify_video/880448540929122304/vid/640x360/YmnJJKMT7zGwM_TP.mp4\",\n",
       " 'ICYMI: We made ourselves heard on the Senate steps this week. An honor to be part of the moment. http://cnn.it/2s98Jmx',\n",
       " 'From #medicalmalpractice and #immigration to #cybersecurity and #healthcare, updates are included in my e-newsletter https://lynch.house.gov/congressman-lynchs-lunch-bucket-bulletin-63017',\n",
       " 'On the 1st day of recreational sales, be responsible, be safe, &amp; be aware that Congress must puff,puff, pass bills to protect the industry. http://pbs.twimg.com/ext_tw_video_thumb/881149165971156992/pu/img/VOYovqnVKKzW8sUT.jpg https://video.twimg.com/ext_tw_video/881149165971156992/pu/vid/1280x720/_KAIsQd2cdnnEBsd.mp4',\n",
       " '#ICYMI: Joe spoke on the Senate floor about how this #healthcare debate is first and foremost about people &amp; families. http://pbs.twimg.com/amplify_video_thumb/880934540742725632/img/kqzEIo5A7hrR6cMV.jpg https://video.twimg.com/amplify_video/880934540742725632/vid/1280x720/Kzc6uStSOiknn0Fx.mp4',\n",
       " 'Today we celebrate the 46th anniversary of ratification of the 26th Amendment and the crucial expansion of voting right for young adults.',\n",
       " 'Not only would #Trumpcare rip health care from 22 million Americans – it is also a job killer.\\nhttps://www.vice.com/en_us/article/d38zza/the-healthcare-bill-is-a-job-killer-too',\n",
       " 'Happy 84th birthday to @OCWDWaterNews &amp; thanks for your unsung work that ensures #CA45 has clean drinking water.  https://www.ocwd.com/news-events/newsletter/2017/june-2017/ocwd-celebrates-84th-anniversary/',\n",
       " \"Committee passage of the Resilient Federal Forests Act, a new leadership role, and more in this week's eNewsletter: https://iqconnect.lmhostediq.com/iqextranet/view_newsletter.aspx?id=103177&c=AR04BW\",\n",
       " \"ICYMI: https://twitter.com/RepCuellar/status/879795285844742146 QT @RepCuellar Apprenticeships, technical education, removing anti-entrepreneur regulations -- that's how I promote jobs in #TX28. https://cuellar.house.gov/news/documentsingle.aspx?DocumentID=401353\",\n",
       " \"Watch this week's #FL18 #WeekInReview video to hear about 2 bills we passed to crack down on sanctuary cities: https://www.youtube.com/watch?v=oiVHwVpafJ4\",\n",
       " 'The @SenateGOP Obamacare repeal would be bad news for Connecticut. You can see the numbers for yourself here:\\nhttps://www.washingtonpost.com/graphics/2017/politics/obamacare-repeal-coverage-loss/?hpid=hp_hp-top-table-main_graphic-945a%3Ahomepage%2Fstory&utm_term=.b70fe5fe068a#9',\n",
       " 'Kudos to 20+ states refusing to bow down to Orwellian \"Election Integrity\" panel uninterested in Putin\\'s efforts to hack state election sys.',\n",
       " 'RT @BernieSanders Remember this is the wealthiest country in history. We should not have children in poverty. We should not have people without health care.',\n",
       " 'Trump\\'s Orwellian \"Presidential Advisory Commission on Election Integrity\" is packed with purveyors of voter fraud myth.',\n",
       " 'Studies show that 84% of Americans want to expand Medicaid. Trump and McConnell want to cut it by $2.4 trillion. http://pbs.twimg.com/media/DDmTmUlXYAAiFhv.png',\n",
       " \"America doesn't trust opponents of the Voting Rights Act w/ a national registry of all of our voter data and protected personal information.\",\n",
       " 'Wishing everyone a happy and safe Independence Day weekend! What are some of your favorite July 4th traditions?',\n",
       " 'To protect the vote, end gerrymandering and pass The Fair Representation Act. Voters should pick representatives, not the other way around.',\n",
       " 'Ways to improve elections: renew Voting Rights Act, pass a constitutional amendment to secure right to vote for ex-prisoners, ppl in DC &amp; PR',\n",
       " 'Jack Vastag &amp; Abigail VanMeter from @NoblesvilleIN HS place in Top5 at the National Speech Finals. Congrats! More &gt;&gt; http://thetimes24-7.com/main.asp?SectionID=1&SubSectionID=1&ArticleID=55495',\n",
       " \"#BTS Stay tuned for our next scribe video. Hint: it's about my big idea to reform our elections and partisan politics ✍️ http://pbs.twimg.com/media/DDmCRurXoAMcFpM.jpg\",\n",
       " \"Staff attended Casa San Carlo's #Veterans ceremony to present them w/ a flag flown over the Capitol &amp; share our gratitude for their service http://pbs.twimg.com/media/DDp0qLDXgAAioXb.jpg\",\n",
       " 'How many states did you contact about Russian attacks on our elections? \\n\\n\"Trump’s Dangerous Indifference to Russia\"\\nhttps://mobile.nytimes.com/2017/06/17/opinion/mr-trumps-dangerous-indifference-to-russia.amp.html',\n",
       " \"If you're looking for evidence of voter fraud, why do you need party ID? Seems weird.\",\n",
       " \"RT @JasonKander President who won't release his tax returns wants to publish every registered voter's social security number, DOB, and party affiliation. https://twitter.com/realdonaldtrump/status/881137079958241280\",\n",
       " 'Happy Canada Day! http://pbs.twimg.com/tweet_video_thumb/DDpzZHrWsAEnoWW.jpg https://video.twimg.com/tweet_video/DDpzZHrWsAEnoWW.mp4',\n",
       " \"They're protecting voter information and privacy rights from an Orwellian federal government repository and an easy hack by Vlad Putin.\",\n",
       " \"They're protecting the privacy rights of tens of millions of Americans. I thought you wanted to give power back to the states &amp; the people? https://twitter.com/realdonaldtrump/status/881137079958241280 QT @realDonaldTrump Numerous states are refusing to give information to the very distinguished VOTER FRAUD PANEL. What are they trying to hide?\",\n",
       " \"Hatch and @OURrescue's @TimBBallard: We are working to end the modern-day slave trade. #utpol #EndTrafficking  http://www.sltrib.com/opinion/5454049-155/hatch-and-ballard-we-are-working\",\n",
       " 'Anti-Science know-nothingism spreads at the heart of the Trump administration.\\n#EPA #NIH #NOAA https://twitter.com/TPM/status/881164624657362946 QT @TPM Report: No staff members left in science division of White House office http://bit.ly/2tBcxkG http://pbs.twimg.com/media/DDqGjiZXsAA2T8Y.jpg',\n",
       " 'Where Republicans go this recess, our NEW geo-targeted ads attacking them for #Trumpcare will follow http://bit.ly/2u8fDtE',\n",
       " 'Great to be in Marinette today for the christening and launch of the newest #MadeInWI #LittoralCombatShip, the USS Billings! http://pbs.twimg.com/media/DDkdAT2UQAA98KI.jpg',\n",
       " 'Women are underrepresented in #STEM jobs. My new legislation seeks to close this disparity and change this→ http://bit.ly/2tsaaAg http://pbs.twimg.com/media/DDmA8YAXgAASSnz.jpg',\n",
       " 'Under #Trumpcare, Colorado would lose 55,989 jobs by 2022. #ProtectOurCare http://pbs.twimg.com/media/DDmEmJ-XYAInISY.jpg',\n",
       " 'Climate change goes beyond just changing weather patterns. It will have serious economic &amp; social impacts as well. http://wnpr.org/post/mapping-potential-economic-effects-climate-change',\n",
       " 'As we head into the weekend, don’t forget to snap your best firework photo! Tag us in your photo to be entered into our contest! http://pbs.twimg.com/media/DDqHTUDXoAMTLS_.jpg',\n",
       " 'We have to promote diversity @StateDept. Glad to fight for these programs with @OfficialCBC. https://nyti.ms/2tvygK1',\n",
       " 'In case you missed it, Senator Tim Scott and I introduced legislation this past Wednesday on Carolina Day to... http://fb.me/24x8Uj3wL',\n",
       " \"Ignoring basic economic principles put us into the ditch, we shouldn't repeat the same mistakes.  http://www.wnd.com/2017/06/dave-brat-1st-part-of-fix-is-obamacare-repeal/\",\n",
       " 'Who did @POTUS @realDonaldTrump put in charge of this voter suppression commission? This guy 😡 https://twitter.com/nytimes/status/876626762280652800 QT @nytimes The man behind President Trump’s voter fraud obsession http://nyti.ms/2syDkNi http://pbs.twimg.com/media/DCpnZLJUQAAkStr.jpg',\n",
       " 'Powerful message on why we need to #SaveMedicaid: “Without Medicaid I would be dead.” https://youtu.be/e8pU2oc7bfo',\n",
       " 'Team Messer visited with the Putnam County GOP at their monthly meeting this morning. http://pbs.twimg.com/media/DDqFi-fXsAEFOXc.jpg http://pbs.twimg.com/media/DDqFi-iXgAE_hUK.jpg',\n",
       " 'Delayed vote on #Trumpcare means it’s more important than ever to make your voice heard! Sign on now: http://www.donaldnorcrossforcongress.com/trumpcare_terrible',\n",
       " 'Thank you to @ILSenateGOP leader Christine Radogno for your years of dedicated service to #IL families. Best wishes in all that comes next.',\n",
       " 'RT @LGBTEqCaucus There is no evidence-based reason to exclude #transgender people from serving their country. They have waited long enough. #TransServiceNow https://twitter.com/CNN/status/881004438210662400',\n",
       " 'RT @CNNnewsroom During Putin/Trump mtg, Rep @GregoryMeeks says they must address \"Russia\\'s intrusion into our democratic process\" http://snpy.tv/2tverTw',\n",
       " 'RT @VermontTourism #Vermont Senator @SenatorLeahy shares the importance of our friendship and collaboration with #Canada. Happy #CanadaDay #Canada150 http://pbs.twimg.com/ext_tw_video_thumb/881153702933016576/pu/img/SwheHS2Zfv_NrQcC.jpg https://video.twimg.com/ext_tw_video/881153702933016576/pu/vid/640x360/CgzwTK0TQNqp5M4H.mp4',\n",
       " '\"Be courteous to all\"-Washington\\n\"With malice towards none\"-Lincoln\\n\"Love generously, care deeply, speak kindly\"-Reagan\\nOur current Pres.: https://twitter.com/realDonaldTrump/status/881140479454310401 QT @realDonaldTrump Crazy Joe Scarborough and dumb as a rock Mika are not bad people, but their low rated show is dominated by their NBC bosses. Too bad!']"
      ]
     },
     "execution_count": 4,
     "metadata": {},
     "output_type": "execute_result"
    }
   ],
   "source": [
    "text"
   ]
  },
  {
   "cell_type": "code",
   "execution_count": 5,
   "metadata": {},
   "outputs": [
    {
     "data": {
      "text/plain": [
       "'Republicans are trying to steal health care from 22 million people in order to help the wealthiest 0.4%. RT @kylegriffin1 Rep. Mark Veasay has introduced a bill to ensure no taxpayer funds will be used to support Trump\\'s Election Commission. http://pbs.twimg.com/media/DDm3PgaXcAAFBIo.jpg A top U.S. science office went dark tonight. Not good. #sciencematters https://twitter.com/elleabella1112/status/880870684485984256 QT @elleabella1112 science division out. mic drop. http://pbs.twimg.com/media/DDl7NT9XoAEeJxb.jpg So the fundraising quarter ends in an hour in MO. I would really appreciate a $5 contribution. Thank you so much. http://clairemccaskill.com/donate RT @larry_kudlow Important story @SenTedCruz @NRO. http://www.nationalreview.com/article/449134/ted-cruz-conservative-health-care-proposal?utm_campaign=trueanthem&utm_content=595717ee04d3010ccd0c715e&utm_medium=social&utm_source=twitter Threats already higher than all of 2016!  Resist! http://thehill.com/homenews/house/340309-threats-against-lawmakers-spiked-this-year Happy birthday @SenJoniErnst! Read @RepLouCorrea article on one of California\\'s finest officers \"Achieving The American Dream\" https://medium.com/congressman-lou-correa/achieving-the-american-dream-1fb26950da7d #HereToStay RT @airandspace 41 years ago today, the official ribbon cutting at our Museum in DC was triggered by a spacecraft orbiting Mars! http://pbs.twimg.com/media/DDpVB1xXoAA3zHZ.jpg Great job Daylen! #littleleague #Baseball #esva https://twitter.com/13newsnow/status/881113918986489857 QT @13NewsNow Eastern Shore Little League player invited to national MLB event http://bit.ly/2tvcp5K http://pbs.twimg.com/media/DDpYcEkWAAIwrcA.jpg John 14:6 Jesus said to him, \"I am the way, and the truth, and the life; no one comes to the Father but through Me.\" RT @mattmaestas Inspired by @BenSasse today begins our 2nd Annual #pushupjuly 10,000 pushups in a month. Join the fun here https://www.facebook.com/pushupjuly2017/ get \\'er done. https://twitter.com/mattmaestas/status/881108201403535360 QT @mattmaestas Inspired by @BenSasse today begins our 2nd Annual #pushupjuly 10,000 pushups in a month. Join the fun here https://www.facebook.com/pushupjuly2017/ top o\\' the morning to you as well https://twitter.com/GrizzlyHolden/status/881081323288313856 QT @GrizzlyHolden @BenSasse  http://pbs.twimg.com/tweet_video_thumb/DDo6yT_V0AAnHb4.jpg https://video.twimg.com/tweet_video/DDo6yT_V0AAnHb4.mp4 TMI https://twitter.com/guyindelco/status/881092215799414784 QT @guyindelco @BenSasse I always get the pork chops for breakfast at Cracker Barrel. ...b/c when we people disagree about policy, the winning move is to call them monsters &amp; scream the other side\\'s goal is to kill people... https://twitter.com/PalmerReport/status/880949703122309122 QT @PalmerReport For those of you who thought Ben Sasse wasn\\'t a monster... https://twitter.com/BenSasse/status/880745889266106368 Join with me and tell @SOSCegavske to protect our information from Trump and his insecurities.  https://www.usnews.com/news/best-states/nevada/articles/2017-06-30/nevada-to-provide-public-data-comply-with-voter-fraud-probe?src=usn_tw really good on dialogue and listening by @timkellernyc https://twitter.com/BenSasse/status/881109096140873730 QT @BenSasse \"we shouldn\\'t talk until we can represent the skeptic’s viewpoint with empathy so he says, ‘Yes, that\\'s my hang up\\'\"\\nhttp://www.christianitytoday.com/ct/2017/june/why-we-argue-best-with-our-mouths-shut.html \"we shouldn\\'t talk until we can represent the skeptic’s viewpoint with empathy so he says, ‘Yes, that\\'s my hang up\\'\"\\nhttp://www.christianitytoday.com/ct/2017/june/why-we-argue-best-with-our-mouths-shut.html amazing story / kid / family https://twitter.com/BenSasse/status/881106096081051650 QT @BenSasse “He didn’t complain abt having cancer” his dad said. “He was thankful for having it so he could reach out to others\"\\nhttp://www.omaha.com/livewellnebraska/recent-grad-simon-jones-who-wrote-blog-about-his-cancer/article_af419fea-9098-59f3-adb8-e4cebc0ed041.html “He didn’t complain abt having cancer” his dad said. “He was thankful for having it so he could reach out to others\"\\nhttp://www.omaha.com/livewellnebraska/recent-grad-simon-jones-who-wrote-blog-about-his-cancer/article_af419fea-9098-59f3-adb8-e4cebc0ed041.html Congress must stand for voter rights and not allow the Trump administration to enact policies that will purge voter rolls. #VoterSuppression RT @thehill Science division of White House office no longer has employees: report http://hill.cm/qx1OKPs http://pbs.twimg.com/media/DDpC7fnXsAAnrXr.jpg I\\'m listening to a heated 6-yr-old argument about which color everyone hates.\\n\\n(apparently it\\'s GREEN) I\\'m pleased Secretary Mattis decided to delay @DeptofDefense accession policy. This costly policy was rushed &amp; hurts #readiness I\\'ll be on @CNN at 9am RT to discuss #Trumpcare Enjoy while it lasts @Yg_Trece will break your heart but youre used to it in OKC. @VicOladipo + @Original_Turner era in Indy could be potent https://twitter.com/okcpd/status/880984935473053696 QT @OKCPD Thanks for the tweets reporting the \"theft\" of Paul George by @okcthunder. \\n\\nOur investigative findings: totally legal &amp; very savvy. Great to see Brody Jenkins &amp; his parents Danel &amp; Sharon of Deer Park, TX. Brody just started at @NavalAcademy. Proud to have nominated him. http://pbs.twimg.com/media/DDpofAJXsAABjP5.jpg Weekly Column ✍️: \\nThe House Acts to Curb #SanctuaryCity Policies https://goodlatte.house.gov/news/documentsingle.aspx?DocumentID=925 #KatesLaw #Trumpcare breaks every health care promise the President made to the American people.\\nhttp://www.washingtonpost.com/news/wonk/wp/2017/06/30/trump-loves-the-senate-health-care-plan-it-would-break-all-of-his-promises/ RT @GarrettVentry Me when it\\'s free @ChickfilA day. http://pbs.twimg.com/media/DDmKoxaXcAERMLH.jpg RT @wisgop .@SenatorBaldwin\\'s Tomah VA scandal keeps getting deeper.  Learn more here: http://bit.ly/2sjhf1e http://pbs.twimg.com/media/DDmmAc_XcAEQ_lk.jpg Senate Intel putting Russia probe on fast track http://politi.co/2smXy9a RT @Fusion Rep. Luis Gutierrez of Illinois slams Trump\\'s new immigration bills that would crack down on \"sanctuary cities.\" http://pbs.twimg.com/amplify_video_thumb/880495002706739200/img/FPyaLJUALGLdD1Bt.jpg https://video.twimg.com/amplify_video/880495002706739200/vid/480x480/1DVw9_JCgJ_qBZHB.mp4 79 cosponsors so far for HR 2909 - DC Personal Protection Reciprocity Act. Need to send to @realDonaldTrump \\'s desk! https://www.congress.gov/bill/115th-congress/house-bill/2909/cosponsors?q=%7B%22search%22%3A%5B%222909%22%5D%7D&r=3 Protecting America’s borders – House passed Kate’s Law as well as No\\u200b \\u200bSanctuary for Criminals Act … Make America Safe Again! RT @thehill Mississippi to Trump voter fraud commission: \"Go jump in the Gulf of Mexico\" http://hill.cm/ytuVln5 http://pbs.twimg.com/media/DDpdQTWXcAAXsi4.jpg Please direct \\'thank-yous\\' to Minnesota Secretary of State; Refuses to give info to Trump\\'s voter Suppression panel http://m.startribune.com/minnesota-secretary-of-state-won-t-supply-voter-information-to-trump-s-panel/431888833/ Want to receive updates on the budget? Sign up here: http://bit.ly/2tyKnHh Thank you to the thousands and thousands of people that helped make our fundraising this quarter so strong. I\\'m very grateful. \"They can go jump in the Gulf of Mexico\" - Mississippi Secretary of State Delbert Hosemann, on your attempts to violate Americans\\' privacy. https://twitter.com/realdonaldtrump/status/881137079958241280 QT @realDonaldTrump Numerous states are refusing to give information to the very distinguished VOTER FRAUD PANEL. What are they trying to hide? Russian radio takes over local DC station http://thehill.com/homenews/media/340292-russian-radio-takes-over-local-dc-station#.WVefz59PSuI.twitter No one should have to choose btwn child care + doctor visits. But that\\'s the kind of impossible choice #Trumpcare will force on families. http://pbs.twimg.com/media/DDpuuO1XYAI8_w0.jpg https://video.twimg.com/amplify_video/880931659230707712/pl/iUEO1k_Yq5BPggtQ.m3u8 ICYMI: announced new funding to support our local fire departments in five WV counties. Learn more here: http://bit.ly/2spN2m6 Richard form my district says \"Obamacare saved my life.\" This is his story http://pbs.twimg.com/media/DDmCzN5XgAAfBIS.jpg RT @colo_politics Should they? H/t @RepKenBuck #copolitics #coleg https://coloradopolitics.com/ken-buck-joins-republican-colleagues-urging-leadership-cancel-august-recess/ RT @denverpost .@RepKenBuck: “If we can’t get our work done, we shouldn’t be going on recess.\" #copolitics http://dpo.st/2saCpzt Republicans claiming that their health care bill doesn\\'t cut Medicaid—drastically—are lying. #ProtectOurCare http://wapo.st/2upi36u?tid=ss_tw&utm_term=.34ea65c05a90 Thanks to the @OWHnews for highlighting this new law important to #agriculture and food security http://www.omaha.com/money/trump-signs-bill-introduced-by-david-young-to-fight-agro/article_e5a9de5a-9e4d-5ce0-9f40-52fcbce62656.html #IA03 An important piece to our bold agenda is public safety. We are grateful for the passage of No Sanctuary for Criminals Act and #KatesLaw. http://pbs.twimg.com/amplify_video_thumb/879790115836579844/img/0wsO6c8GaFjWYfcB.jpg https://video.twimg.com/amplify_video/879790115836579844/vid/320x180/d3DoPuGP3BOHmbGO.mp4 How are you celebrating the 4th of July? Join me at the Montgomery Village Parade. 🎆Sign up!🎆https://www.eventbrite.com/e/john-congressman-delaney-at-the-montgomery-village-fourth-of-july-parade-tickets-35739764598 WATCH: @CecileRichards explains the devastating impact #Trumpcare will have on vulnerable families https://twitter.com/nowthisnews/status/880454069957021696 QT @nowthisnews Here\\'s how badly women will suffer if the Senate health care bill defunds Planned Parenthood.\\n\\nAn op-ed from Cecile Richards: http://pbs.twimg.com/media/DDf8GcqXsAEZSg8.jpg https://video.twimg.com/amplify_video/880448540929122304/vid/640x360/YmnJJKMT7zGwM_TP.mp4 ICYMI: We made ourselves heard on the Senate steps this week. An honor to be part of the moment. http://cnn.it/2s98Jmx From #medicalmalpractice and #immigration to #cybersecurity and #healthcare, updates are included in my e-newsletter https://lynch.house.gov/congressman-lynchs-lunch-bucket-bulletin-63017 On the 1st day of recreational sales, be responsible, be safe, &amp; be aware that Congress must puff,puff, pass bills to protect the industry. http://pbs.twimg.com/ext_tw_video_thumb/881149165971156992/pu/img/VOYovqnVKKzW8sUT.jpg https://video.twimg.com/ext_tw_video/881149165971156992/pu/vid/1280x720/_KAIsQd2cdnnEBsd.mp4 #ICYMI: Joe spoke on the Senate floor about how this #healthcare debate is first and foremost about people &amp; families. http://pbs.twimg.com/amplify_video_thumb/880934540742725632/img/kqzEIo5A7hrR6cMV.jpg https://video.twimg.com/amplify_video/880934540742725632/vid/1280x720/Kzc6uStSOiknn0Fx.mp4 Today we celebrate the 46th anniversary of ratification of the 26th Amendment and the crucial expansion of voting right for young adults. Not only would #Trumpcare rip health care from 22 million Americans – it is also a job killer.\\nhttps://www.vice.com/en_us/article/d38zza/the-healthcare-bill-is-a-job-killer-too Happy 84th birthday to @OCWDWaterNews &amp; thanks for your unsung work that ensures #CA45 has clean drinking water.  https://www.ocwd.com/news-events/newsletter/2017/june-2017/ocwd-celebrates-84th-anniversary/ Committee passage of the Resilient Federal Forests Act, a new leadership role, and more in this week\\'s eNewsletter: https://iqconnect.lmhostediq.com/iqextranet/view_newsletter.aspx?id=103177&c=AR04BW ICYMI: https://twitter.com/RepCuellar/status/879795285844742146 QT @RepCuellar Apprenticeships, technical education, removing anti-entrepreneur regulations -- that\\'s how I promote jobs in #TX28. https://cuellar.house.gov/news/documentsingle.aspx?DocumentID=401353 Watch this week\\'s #FL18 #WeekInReview video to hear about 2 bills we passed to crack down on sanctuary cities: https://www.youtube.com/watch?v=oiVHwVpafJ4 The @SenateGOP Obamacare repeal would be bad news for Connecticut. You can see the numbers for yourself here:\\nhttps://www.washingtonpost.com/graphics/2017/politics/obamacare-repeal-coverage-loss/?hpid=hp_hp-top-table-main_graphic-945a%3Ahomepage%2Fstory&utm_term=.b70fe5fe068a#9 Kudos to 20+ states refusing to bow down to Orwellian \"Election Integrity\" panel uninterested in Putin\\'s efforts to hack state election sys. RT @BernieSanders Remember this is the wealthiest country in history. We should not have children in poverty. We should not have people without health care. Trump\\'s Orwellian \"Presidential Advisory Commission on Election Integrity\" is packed with purveyors of voter fraud myth. Studies show that 84% of Americans want to expand Medicaid. Trump and McConnell want to cut it by $2.4 trillion. http://pbs.twimg.com/media/DDmTmUlXYAAiFhv.png America doesn\\'t trust opponents of the Voting Rights Act w/ a national registry of all of our voter data and protected personal information. Wishing everyone a happy and safe Independence Day weekend! What are some of your favorite July 4th traditions? To protect the vote, end gerrymandering and pass The Fair Representation Act. Voters should pick representatives, not the other way around. Ways to improve elections: renew Voting Rights Act, pass a constitutional amendment to secure right to vote for ex-prisoners, ppl in DC &amp; PR Jack Vastag &amp; Abigail VanMeter from @NoblesvilleIN HS place in Top5 at the National Speech Finals. Congrats! More &gt;&gt; http://thetimes24-7.com/main.asp?SectionID=1&SubSectionID=1&ArticleID=55495 #BTS Stay tuned for our next scribe video. Hint: it\\'s about my big idea to reform our elections and partisan politics ✍️ http://pbs.twimg.com/media/DDmCRurXoAMcFpM.jpg Staff attended Casa San Carlo\\'s #Veterans ceremony to present them w/ a flag flown over the Capitol &amp; share our gratitude for their service http://pbs.twimg.com/media/DDp0qLDXgAAioXb.jpg How many states did you contact about Russian attacks on our elections? \\n\\n\"Trump’s Dangerous Indifference to Russia\"\\nhttps://mobile.nytimes.com/2017/06/17/opinion/mr-trumps-dangerous-indifference-to-russia.amp.html If you\\'re looking for evidence of voter fraud, why do you need party ID? Seems weird. RT @JasonKander President who won\\'t release his tax returns wants to publish every registered voter\\'s social security number, DOB, and party affiliation. https://twitter.com/realdonaldtrump/status/881137079958241280 Happy Canada Day! http://pbs.twimg.com/tweet_video_thumb/DDpzZHrWsAEnoWW.jpg https://video.twimg.com/tweet_video/DDpzZHrWsAEnoWW.mp4 They\\'re protecting voter information and privacy rights from an Orwellian federal government repository and an easy hack by Vlad Putin. They\\'re protecting the privacy rights of tens of millions of Americans. I thought you wanted to give power back to the states &amp; the people? https://twitter.com/realdonaldtrump/status/881137079958241280 QT @realDonaldTrump Numerous states are refusing to give information to the very distinguished VOTER FRAUD PANEL. What are they trying to hide? Hatch and @OURrescue\\'s @TimBBallard: We are working to end the modern-day slave trade. #utpol #EndTrafficking  http://www.sltrib.com/opinion/5454049-155/hatch-and-ballard-we-are-working Anti-Science know-nothingism spreads at the heart of the Trump administration.\\n#EPA #NIH #NOAA https://twitter.com/TPM/status/881164624657362946 QT @TPM Report: No staff members left in science division of White House office http://bit.ly/2tBcxkG http://pbs.twimg.com/media/DDqGjiZXsAA2T8Y.jpg Where Republicans go this recess, our NEW geo-targeted ads attacking them for #Trumpcare will follow http://bit.ly/2u8fDtE Great to be in Marinette today for the christening and launch of the newest #MadeInWI #LittoralCombatShip, the USS Billings! http://pbs.twimg.com/media/DDkdAT2UQAA98KI.jpg Women are underrepresented in #STEM jobs. My new legislation seeks to close this disparity and change this→ http://bit.ly/2tsaaAg http://pbs.twimg.com/media/DDmA8YAXgAASSnz.jpg Under #Trumpcare, Colorado would lose 55,989 jobs by 2022. #ProtectOurCare http://pbs.twimg.com/media/DDmEmJ-XYAInISY.jpg Climate change goes beyond just changing weather patterns. It will have serious economic &amp; social impacts as well. http://wnpr.org/post/mapping-potential-economic-effects-climate-change As we head into the weekend, don’t forget to snap your best firework photo! Tag us in your photo to be entered into our contest! http://pbs.twimg.com/media/DDqHTUDXoAMTLS_.jpg We have to promote diversity @StateDept. Glad to fight for these programs with @OfficialCBC. https://nyti.ms/2tvygK1 In case you missed it, Senator Tim Scott and I introduced legislation this past Wednesday on Carolina Day to... http://fb.me/24x8Uj3wL Ignoring basic economic principles put us into the ditch, we shouldn\\'t repeat the same mistakes.  http://www.wnd.com/2017/06/dave-brat-1st-part-of-fix-is-obamacare-repeal/ Who did @POTUS @realDonaldTrump put in charge of this voter suppression commission? This guy 😡 https://twitter.com/nytimes/status/876626762280652800 QT @nytimes The man behind President Trump’s voter fraud obsession http://nyti.ms/2syDkNi http://pbs.twimg.com/media/DCpnZLJUQAAkStr.jpg Powerful message on why we need to #SaveMedicaid: “Without Medicaid I would be dead.” https://youtu.be/e8pU2oc7bfo Team Messer visited with the Putnam County GOP at their monthly meeting this morning. http://pbs.twimg.com/media/DDqFi-fXsAEFOXc.jpg http://pbs.twimg.com/media/DDqFi-iXgAE_hUK.jpg Delayed vote on #Trumpcare means it’s more important than ever to make your voice heard! Sign on now: http://www.donaldnorcrossforcongress.com/trumpcare_terrible Thank you to @ILSenateGOP leader Christine Radogno for your years of dedicated service to #IL families. Best wishes in all that comes next. RT @LGBTEqCaucus There is no evidence-based reason to exclude #transgender people from serving their country. They have waited long enough. #TransServiceNow https://twitter.com/CNN/status/881004438210662400 RT @CNNnewsroom During Putin/Trump mtg, Rep @GregoryMeeks says they must address \"Russia\\'s intrusion into our democratic process\" http://snpy.tv/2tverTw RT @VermontTourism #Vermont Senator @SenatorLeahy shares the importance of our friendship and collaboration with #Canada. Happy #CanadaDay #Canada150 http://pbs.twimg.com/ext_tw_video_thumb/881153702933016576/pu/img/SwheHS2Zfv_NrQcC.jpg https://video.twimg.com/ext_tw_video/881153702933016576/pu/vid/640x360/CgzwTK0TQNqp5M4H.mp4 \"Be courteous to all\"-Washington\\n\"With malice towards none\"-Lincoln\\n\"Love generously, care deeply, speak kindly\"-Reagan\\nOur current Pres.: https://twitter.com/realDonaldTrump/status/881140479454310401 QT @realDonaldTrump Crazy Joe Scarborough and dumb as a rock Mika are not bad people, but their low rated show is dominated by their NBC bosses. Too bad!'"
      ]
     },
     "execution_count": 5,
     "metadata": {},
     "output_type": "execute_result"
    }
   ],
   "source": [
    "text = ' '.join(text)\n",
    "text"
   ]
  },
  {
   "cell_type": "code",
   "execution_count": 6,
   "metadata": {},
   "outputs": [],
   "source": [
    "text = text.lower()"
   ]
  },
  {
   "cell_type": "code",
   "execution_count": 8,
   "metadata": {},
   "outputs": [],
   "source": [
    "import re"
   ]
  },
  {
   "cell_type": "code",
   "execution_count": 9,
   "metadata": {},
   "outputs": [],
   "source": [
    "text = re.sub(r'http\\S+', '',text)"
   ]
  },
  {
   "cell_type": "code",
   "execution_count": 11,
   "metadata": {},
   "outputs": [],
   "source": [
    "text = text.split(\" \")"
   ]
  },
  {
   "cell_type": "code",
   "execution_count": 13,
   "metadata": {},
   "outputs": [],
   "source": [
    "from sklearn.feature_extraction.text import CountVectorizer"
   ]
  },
  {
   "cell_type": "code",
   "execution_count": 14,
   "metadata": {},
   "outputs": [],
   "source": [
    "vectorizer = CountVectorizer()"
   ]
  },
  {
   "cell_type": "code",
   "execution_count": 15,
   "metadata": {},
   "outputs": [],
   "source": [
    "X = vectorizer.fit_transform(text)"
   ]
  },
  {
   "cell_type": "code",
   "execution_count": 16,
   "metadata": {},
   "outputs": [
    {
     "name": "stdout",
     "output_type": "stream",
     "text": [
      "词袋特征矩阵的形状： (2012, 895)\n"
     ]
    }
   ],
   "source": [
    "print('词袋特征矩阵的形状：', X.shape)"
   ]
  },
  {
   "cell_type": "code",
   "execution_count": 17,
   "metadata": {},
   "outputs": [
    {
     "name": "stdout",
     "output_type": "stream",
     "text": [
      "特征词列表： ['000' '10' '13newsnow' '14' '1st' '20' '2016' '2022' '22' '26th' '2909'\n",
      " '2nd' '41' '46th' '4th' '55' '79' '84' '84th' '989' '9am' 'abigail'\n",
      " 'about' 'abt' 'accession' 'achieving' 'act' 'acts' 'address'\n",
      " 'administration' 'ads' 'adults' 'advisory' 'affiliation' 'again' 'agenda'\n",
      " 'ago' 'agriculture' 'airandspace' 'all' 'allow' 'already' 'also' 'always'\n",
      " 'am' 'amazing' 'amendment' 'america' 'american' 'americans' 'amp' 'an'\n",
      " 'and' 'anniversary' 'announced' 'annual' 'anti' 'apparently' 'appreciate'\n",
      " 'apprenticeships' 'are' 'argument' 'around' 'article' 'as' 'at'\n",
      " 'attacking' 'attacks' 'attempts' 'attended' 'aware' 'back' 'bad' 'badly'\n",
      " 'barrel' 'baseball' 'based' 'basic' 'be' 'begins' 'behind' 'ben'\n",
      " 'bensasse' 'berniesanders' 'best' 'beyond' 'big' 'bill' 'billings'\n",
      " 'bills' 'birthday' 'bold' 'borders' 'bosses' 'bow' 'break' 'breakfast'\n",
      " 'breaks' 'brody' 'bts' 'btwn' 'budget' 'but' 'by' 'ca45' 'california'\n",
      " 'call' 'can' 'canada' 'canada150' 'canadaday' 'cancer' 'capitol' 'care'\n",
      " 'carlo' 'carolina' 'casa' 'case' 'cecile' 'cecilerichards' 'celebrate'\n",
      " 'celebrating' 'ceremony' 'change' 'changing' 'charge' 'chickfila' 'child'\n",
      " 'children' 'choice' 'choose' 'chops' 'christening' 'christine' 'cities'\n",
      " 'claiming' 'clean' 'climate' 'close' 'cnn' 'cnnnewsroom' 'coleg'\n",
      " 'collaboration' 'colo_politics' 'color' 'colorado' 'column' 'comes'\n",
      " 'commission' 'committee' 'complain' 'congrats' 'congress' 'connecticut'\n",
      " 'constitutional' 'contact' 'contest' 'contribution' 'copolitics'\n",
      " 'cosponsors' 'costly' 'could' 'counties' 'country' 'county' 'courteous'\n",
      " 'crack' 'cracker' 'crazy' 'criminals' 'crucial' 'curb' 'current' 'cut'\n",
      " 'cutting' 'cybersecurity' 'dad' 'danel' 'dangerous' 'dark' 'data' 'day'\n",
      " 'daylen' 'dc' 'dead' 'debate' 'decided' 'dedicated' 'deeper' 'deeply'\n",
      " 'deer' 'defunds' 'delay' 'delayed' 'delbert' 'democratic' 'denverpost'\n",
      " 'departments' 'deptofdefense' 'desk' 'devastating' 'dialogue' 'did'\n",
      " 'didn' 'direct' 'disagree' 'discuss' 'disparity' 'distinguished'\n",
      " 'district' 'ditch' 'diversity' 'division' 'do' 'dob' 'doctor' 'doesn'\n",
      " 'dominated' 'don' 'done' 'down' 'drastically' 'dream' 'drinking' 'drop'\n",
      " 'dumb' 'during' 'eastern' 'easy' 'economic' 'ed' 'education' 'efforts'\n",
      " 'election' 'elections' 'elleabella1112' 'empathy' 'employees' 'enact'\n",
      " 'end' 'ends' 'endtrafficking' 'enewsletter' 'enjoy' 'enough' 'ensure'\n",
      " 'ensures' 'entered' 'entrepreneur' 'epa' 'er' 'era' 'esva' 'event' 'ever'\n",
      " 'every' 'everyone' 'evidence' 'ex' 'exclude' 'expand' 'expansion'\n",
      " 'explains' 'fair' 'families' 'family' 'far' 'fast' 'father' 'favorite'\n",
      " 'federal' 'fight' 'finals' 'findings' 'finest' 'fire' 'firework' 'first'\n",
      " 'five' 'fl18' 'flag' 'floor' 'flown' 'follow' 'food' 'for' 'force'\n",
      " 'foremost' 'forests' 'forget' 'form' 'fraud' 'free' 'friendship' 'from'\n",
      " 'fun' 'funding' 'fundraising' 'funds' 'fusion' 'garrettventry'\n",
      " 'generously' 'geo' 'george' 'gerrymandering' 'get' 'getting' 'give'\n",
      " 'glad' 'go' 'goal' 'goes' 'going' 'good' 'gop' 'government' 'grateful'\n",
      " 'gratitude' 'great' 'green' 'gregorymeeks' 'grizzlyholden' 'gt' 'gulf'\n",
      " 'gutierrez' 'guy' 'guyindelco' 'hack' 'hang' 'happy' 'has' 'hatch'\n",
      " 'hates' 'have' 'having' 'he' 'head' 'health' 'healthcare' 'hear' 'heard'\n",
      " 'heart' 'heated' 'help' 'helped' 'here' 'heretostay' 'hide' 'higher'\n",
      " 'highlighting' 'him' 'hint' 'his' 'history' 'honor' 'hosemann' 'hour'\n",
      " 'house' 'how' 'hr' 'hs' 'hurts' 'ia03' 'icymi' 'id' 'idea' 'if'\n",
      " 'ignoring' 'il' 'illinois' 'ilsenategop' 'immigration' 'impact' 'impacts'\n",
      " 'importance' 'important' 'impossible' 'improve' 'in' 'included'\n",
      " 'independence' 'indifference' 'industry' 'indy' 'info' 'information'\n",
      " 'insecurities' 'inspired' 'integrity' 'intel' 'into' 'introduced'\n",
      " 'intrusion' 'investigative' 'invited' 'is' 'it' 'jack' 'jasonkander'\n",
      " 'jenkins' 'jesus' 'job' 'jobs' 'joe' 'john' 'join' 'july' 'jump' 'just'\n",
      " 'kate' 'kateslaw' 'keeps' 'kid' 'kill' 'killer' 'kind' 'kindly' 'know'\n",
      " 'kudos' 'kylegriffin1' 'larry_kudlow' 'lasts' 'launch' 'law' 'leader'\n",
      " 'leadership' 'league' 'learn' 'left' 'legal' 'legislation' 'lgbteqcaucus'\n",
      " 'life' 'lincoln' 'listening' 'little' 'littleleague' 'littoralcombatship'\n",
      " 'll' 'local' 'long' 'longer' 'looking' 'lose' 'love' 'low' 'luis' 'lying'\n",
      " 'made' 'madeinwi' 'make' 'malice' 'man' 'many' 'marinette' 'mark' 'mars'\n",
      " 'mattis' 'mattmaestas' 'mcconnell' 'me' 'means' 'medicaid'\n",
      " 'medicalmalpractice' 'meeting' 'members' 'message' 'messer' 'mexico'\n",
      " 'mic' 'mika' 'million' 'millions' 'minnesota' 'missed' 'mississippi'\n",
      " 'mistakes' 'mlb' 'mo' 'modern' 'moment' 'monster' 'monsters' 'montgomery'\n",
      " 'month' 'monthly' 'more' 'morning' 'move' 'mtg' 'much' 'museum' 'must'\n",
      " 'my' 'myth' 'national' 'navalacademy' 'nbc' 'need' 'new' 'newest' 'news'\n",
      " 'newsletter' 'next' 'nih' 'no' 'noaa' 'noblesvillein' 'nominated' 'none'\n",
      " 'not' 'nothingism' 'now' 'nowthisnews' 'nro' 'number' 'numbers'\n",
      " 'numerous' 'nytimes' 'obamacare' 'obsession' 'ocwdwaternews' 'of'\n",
      " 'office' 'officers' 'official' 'officialcbc' 'okc' 'okcpd' 'okcthunder'\n",
      " 'old' 'on' 'one' 'only' 'op' 'opponents' 'orbiting' 'order'\n",
      " 'original_turner' 'orwellian' 'other' 'others' 'our' 'ourrescue'\n",
      " 'ourselves' 'out' 'over' 'owhnews' 'packed' 'palmerreport' 'panel'\n",
      " 'parade' 'parenthood' 'parents' 'park' 'part' 'partisan' 'party' 'pass'\n",
      " 'passage' 'passed' 'past' 'patterns' 'paul' 'people' 'personal' 'photo'\n",
      " 'pick' 'piece' 'place' 'planned' 'player' 'please' 'pleased' 'policies'\n",
      " 'policy' 'politics' 'pork' 'potent' 'potus' 'poverty' 'power' 'powerful'\n",
      " 'ppl' 'pr' 'pres' 'present' 'president' 'presidential' 'principles'\n",
      " 'prisoners' 'privacy' 'probe' 'process' 'programs' 'promise' 'promote'\n",
      " 'protect' 'protected' 'protecting' 'protection' 'protectourcare' 'proud'\n",
      " 'public' 'publish' 'puff' 'purge' 'purveyors' 'pushupjuly' 'pushups'\n",
      " 'put' 'putin' 'putnam' 'putting' 'qt' 'quarter' 'radio' 'radogno' 'rated'\n",
      " 'ratification' 're' 'reach' 'read' 'readiness' 'reagan' 'realdonaldtrump'\n",
      " 'really' 'reason' 'receive' 'recess' 'reciprocity' 'recreational'\n",
      " 'reform' 'refuses' 'refusing' 'registered' 'registry' 'regulations'\n",
      " 'release' 'remember' 'removing' 'renew' 'rep' 'repcuellar' 'repeal'\n",
      " 'repeat' 'repkenbuck' 'reploucorrea' 'report' 'reporting' 'repository'\n",
      " 'represent' 'representation' 'representatives' 'republicans' 'resilient'\n",
      " 'resist' 'responsible' 'returns' 'ribbon' 'richard' 'richards' 'right'\n",
      " 'rights' 'rip' 'rock' 'role' 'rolls' 'rt' 'rushed' 'russia' 'russian'\n",
      " 'safe' 'safety' 'said' 'sales' 'same' 'san' 'sanctuary' 'sanctuarycity'\n",
      " 'sasse' 'saved' 'savemedicaid' 'savvy' 'says' 'scandal' 'scarborough'\n",
      " 'science' 'sciencematters' 'scott' 'scream' 'scribe' 'secretary' 'secure'\n",
      " 'security' 'see' 'seeks' 'seems' 'senate' 'senategop' 'senator'\n",
      " 'senatorbaldwin' 'senatorleahy' 'send' 'senjoniernst' 'sentedcruz'\n",
      " 'serious' 'service' 'serving' 'share' 'shares' 'sharon' 'shore' 'should'\n",
      " 'shouldn' 'show' 'side' 'sign' 'skeptic' 'slams' 'slave' 'snap' 'so'\n",
      " 'social' 'some' 'soscegavske' 'spacecraft' 'speak' 'speech' 'spoke'\n",
      " 'spreads' 'staff' 'stand' 'started' 'state' 'statedept' 'states'\n",
      " 'station' 'stay' 'steal' 'stem' 'steps' 'story' 'strong' 'studies'\n",
      " 'suffer' 'support' 'suppression' 'sys' 'tag' 'takes' 'talk' 'targeted'\n",
      " 'tax' 'taxpayer' 'team' 'technical' 'tell' 'tens' 'than' 'thank'\n",
      " 'thankful' 'thanks' 'that' 'the' 'theft' 'thehill' 'their' 'them' 'there'\n",
      " 'these' 'they' 'this' 'those' 'thought' 'thousands' 'threats' 'through'\n",
      " 'tim' 'timbballard' 'timkellernyc' 'tmi' 'to' 'today' 'tomah' 'tonight'\n",
      " 'too' 'top' 'top5' 'totally' 'towards' 'tpm' 'track' 'trade' 'traditions'\n",
      " 'transgender' 'transservicenow' 'triggered' 'trillion' 'trump'\n",
      " 'trumpcare' 'trust' 'truth' 'trying' 'tuned' 'tweets' 'tx' 'tx28' 'under'\n",
      " 'underrepresented' 'uninterested' 'unsung' 'until' 'up' 'updates' 'us'\n",
      " 'used' 'uss' 'utpol' 'va' 'vanmeter' 'vastag' 'veasay' 'vermont'\n",
      " 'vermonttourism' 'very' 'veterans' 'vicoladipo' 'video' 'viewpoint'\n",
      " 'village' 'violate' 'visited' 'visits' 'vlad' 'voice' 'vote' 'voter'\n",
      " 'voters' 'votersuppression' 'voting' 'vulnerable' 'waited' 'want'\n",
      " 'wanted' 'wants' 'was' 'washington' 'wasn' 'watch' 'water' 'way' 'ways'\n",
      " 'we' 'wealthiest' 'weather' 'wednesday' 'week' 'weekend' 'weekinreview'\n",
      " 'weekly' 'weird' 'well' 'went' 'what' 'when' 'where' 'which' 'while'\n",
      " 'white' 'who' 'why' 'will' 'winning' 'wisgop' 'wishes' 'wishing' 'with'\n",
      " 'without' 'women' 'won' 'work' 'working' 'would' 'wv' 'years' 'yes'\n",
      " 'yg_trece' 'you' 'young' 'your' 'youre' 'yourself' 'yous' 'yr']\n"
     ]
    }
   ],
   "source": [
    "print('特征词列表：', vectorizer.get_feature_names_out())"
   ]
  },
  {
   "cell_type": "code",
   "execution_count": null,
   "metadata": {},
   "outputs": [],
   "source": []
  }
 ],
 "metadata": {
  "kernelspec": {
   "display_name": "Python 3",
   "language": "python",
   "name": "python3"
  },
  "language_info": {
   "codemirror_mode": {
    "name": "ipython",
    "version": 3
   },
   "file_extension": ".py",
   "mimetype": "text/x-python",
   "name": "python",
   "nbconvert_exporter": "python",
   "pygments_lexer": "ipython3",
   "version": "3.7.0"
  }
 },
 "nbformat": 4,
 "nbformat_minor": 2
}
